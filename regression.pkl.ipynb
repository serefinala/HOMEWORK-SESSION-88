{
  "nbformat": 4,
  "nbformat_minor": 0,
  "metadata": {
    "colab": {
      "provenance": []
    },
    "kernelspec": {
      "name": "python3",
      "display_name": "Python 3"
    },
    "language_info": {
      "name": "python"
    }
  },
  "cells": [
    {
      "cell_type": "code",
      "execution_count": 1,
      "metadata": {
        "colab": {
          "base_uri": "https://localhost:8080/"
        },
        "id": "L1buSS_V28ca",
        "outputId": "951fa1fe-3a09-41fc-cc7a-48f223a12698"
      },
      "outputs": [
        {
          "output_type": "stream",
          "name": "stdout",
          "text": [
            "       12.0   15.0\n",
            "0      20.5   16.0\n",
            "1      21.0   18.0\n",
            "2      15.5   27.0\n",
            "3      15.3   21.0\n",
            "4      23.5   49.0\n"
          ]
        }
      ],
      "source": [
        "import pandas as pd\n",
        "\n",
        "# Muat data\n",
        "url = 'https://www.econometrics.com/intro/SALES.txt'\n",
        "data = pd.read_csv(url, sep=\"\\t\")\n",
        "\n",
        "# Tampilkan beberapa baris pertama dari data\n",
        "print(data.head())"
      ]
    },
    {
      "cell_type": "code",
      "source": [
        "import pandas as pd\n",
        "from sklearn.model_selection import train_test_split\n",
        "from sklearn.linear_model import LinearRegression\n",
        "from sklearn.metrics import mean_squared_error, r2_score\n",
        "import numpy as np\n",
        "\n",
        "# Example data creation\n",
        "data = pd.DataFrame({\n",
        "    'Sales': [10, 20, 30, 40, 50, 60, 70, 80, 90, 100],\n",
        "    'Advertising': [1, 2, 3, 4, 5, 6, 7, 8, 9, 10]\n",
        "})\n",
        "\n",
        "# Tentukan fitur dan variabel target\n",
        "X = data[['Sales']]\n",
        "y = data['Advertising']\n",
        "\n",
        "# Bagi data menjadi set pelatihan dan pengujian\n",
        "X_train, X_test, y_train, y_test = train_test_split(X, y, test_size=0.2, random_state=42)\n",
        "\n",
        "# Buat dan latih model\n",
        "model = LinearRegression()\n",
        "model.fit(X_train, y_train)\n",
        "\n",
        "# Buat prediksi untuk nilai penjualan tertentu\n",
        "sales_values = np.array([50, 100, 150]).reshape(-1, 1)\n",
        "predictions = model.predict(sales_values)\n",
        "\n",
        "# Cetak prediksi\n",
        "for sale, pred in zip([50, 100, 150], predictions):\n",
        "    print(f'Biaya Iklan yang Diprediksi untuk {sale} penjualan: {pred:.2f} juta $')\n",
        "\n",
        "# Evaluasi model\n",
        "y_pred = model.predict(X_test)\n",
        "rmse = mean_squared_error(y_test, y_pred, squared=False)\n",
        "r2 = r2_score(y_test, y_pred)\n",
        "\n",
        "print(f'RMSE: {rmse:.2f}')\n",
        "print(f'Skor R2: {r2:.2f}')\n",
        "\n"
      ],
      "metadata": {
        "colab": {
          "base_uri": "https://localhost:8080/"
        },
        "id": "HPZLANek3DJf",
        "outputId": "c89cc00c-7203-4949-8c4d-45a656bbf72c"
      },
      "execution_count": 3,
      "outputs": [
        {
          "output_type": "stream",
          "name": "stdout",
          "text": [
            "Biaya Iklan yang Diprediksi untuk 50 penjualan: 5.00 juta $\n",
            "Biaya Iklan yang Diprediksi untuk 100 penjualan: 10.00 juta $\n",
            "Biaya Iklan yang Diprediksi untuk 150 penjualan: 15.00 juta $\n",
            "RMSE: 0.00\n",
            "Skor R2: 1.00\n"
          ]
        },
        {
          "output_type": "stream",
          "name": "stderr",
          "text": [
            "/usr/local/lib/python3.10/dist-packages/sklearn/base.py:439: UserWarning: X does not have valid feature names, but LinearRegression was fitted with feature names\n",
            "  warnings.warn(\n"
          ]
        }
      ]
    },
    {
      "cell_type": "code",
      "source": [],
      "metadata": {
        "id": "KVC793uW3Ykx"
      },
      "execution_count": null,
      "outputs": []
    }
  ]
}