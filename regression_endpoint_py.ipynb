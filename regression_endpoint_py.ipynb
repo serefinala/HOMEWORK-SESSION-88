{
  "nbformat": 4,
  "nbformat_minor": 0,
  "metadata": {
    "colab": {
      "provenance": []
    },
    "kernelspec": {
      "name": "python3",
      "display_name": "Python 3"
    },
    "language_info": {
      "name": "python"
    }
  },
  "cells": [
    {
      "cell_type": "code",
      "execution_count": 2,
      "metadata": {
        "colab": {
          "base_uri": "https://localhost:8080/"
        },
        "id": "qI7wtZ2x4Z3V",
        "outputId": "4796a1df-4133-43bc-c9b5-d19710b4fc46"
      },
      "outputs": [
        {
          "output_type": "stream",
          "name": "stdout",
          "text": [
            "Biaya Iklan yang Diprediksi untuk 50 penjualan: 5.00 juta $\n",
            "Biaya Iklan yang Diprediksi untuk 100 penjualan: 10.00 juta $\n",
            "Biaya Iklan yang Diprediksi untuk 150 penjualan: 15.00 juta $\n",
            "RMSE: 0.00\n",
            "Skor R2: 1.00\n",
            "Model telah disimpan sebagai 'regression.pkl'\n"
          ]
        },
        {
          "output_type": "stream",
          "name": "stderr",
          "text": [
            "/usr/local/lib/python3.10/dist-packages/sklearn/base.py:439: UserWarning: X does not have valid feature names, but LinearRegression was fitted with feature names\n",
            "  warnings.warn(\n"
          ]
        }
      ],
      "source": [
        "import pandas as pd\n",
        "from sklearn.model_selection import train_test_split\n",
        "from sklearn.linear_model import LinearRegression\n",
        "from sklearn.metrics import mean_squared_error, r2_score\n",
        "import numpy as np\n",
        "import pickle\n",
        "\n",
        "# Example data creation\n",
        "data = pd.DataFrame({\n",
        "    'Sales': [10, 20, 30, 40, 50, 60, 70, 80, 90, 100],\n",
        "    'Advertising': [1, 2, 3, 4, 5, 6, 7, 8, 9, 10]\n",
        "})\n",
        "\n",
        "# Tentukan fitur dan variabel target\n",
        "X = data[['Sales']]\n",
        "y = data['Advertising']\n",
        "\n",
        "# Bagi data menjadi set pelatihan dan pengujian\n",
        "X_train, X_test, y_train, y_test = train_test_split(X, y, test_size=0.2, random_state=42)\n",
        "\n",
        "# Buat dan latih model\n",
        "model = LinearRegression()\n",
        "model.fit(X_train, y_train)\n",
        "\n",
        "# Buat prediksi untuk nilai penjualan tertentu\n",
        "sales_values = np.array([50, 100, 150]).reshape(-1, 1)\n",
        "predictions = model.predict(sales_values)\n",
        "\n",
        "# Cetak prediksi\n",
        "for sale, pred in zip([50, 100, 150], predictions):\n",
        "    print(f'Biaya Iklan yang Diprediksi untuk {sale} penjualan: {pred:.2f} juta $')\n",
        "\n",
        "# Evaluasi model\n",
        "y_pred = model.predict(X_test)\n",
        "rmse = mean_squared_error(y_test, y_pred, squared=False)\n",
        "r2 = r2_score(y_test, y_pred)\n",
        "\n",
        "print(f'RMSE: {rmse:.2f}')\n",
        "print(f'Skor R2: {r2:.2f}')\n",
        "\n",
        "# Simpan model yang dilatih sebagai file pickle\n",
        "with open('regression.pkl', 'wb') as file:\n",
        "    pickle.dump(model, file)\n",
        "\n",
        "print(\"Model telah disimpan sebagai 'regression.pkl'\")\n"
      ]
    },
    {
      "cell_type": "code",
      "source": [
        "from flask import Flask, request, jsonify\n",
        "import pickle\n",
        "import numpy as np\n",
        "\n",
        "app = Flask(__name__)\n",
        "\n",
        "# Muat model regresi\n",
        "with open('regression.pkl', 'rb') as file:\n",
        "    model = pickle.load(file)\n",
        "\n",
        "@app.route('/predict-advertising', methods=['POST', 'GET'])\n",
        "def predict():\n",
        "    # Dapatkan nilai penjualan dari permintaan\n",
        "    data = request.args\n",
        "    sales_value = float(data['sales'])\n",
        "\n",
        "    # Buat prediksi\n",
        "    prediction = model.predict(np.array([[sales_value]]))[0]\n",
        "\n",
        "    # Kembalikan prediksi\n",
        "    return jsonify({'Advertising': prediction})\n",
        "\n",
        "if __name__ == \"__main__\":\n",
        "    app.run(host='0.0.0.0', port=5000, debug=True)\n"
      ],
      "metadata": {
        "id": "XPCyttmO5hzU"
      },
      "execution_count": null,
      "outputs": []
    }
  ]
}