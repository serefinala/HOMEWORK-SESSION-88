{
  "nbformat": 4,
  "nbformat_minor": 0,
  "metadata": {
    "colab": {
      "provenance": []
    },
    "kernelspec": {
      "name": "python3",
      "display_name": "Python 3"
    },
    "language_info": {
      "name": "python"
    }
  },
  "cells": [
    {
      "cell_type": "code",
      "execution_count": null,
      "metadata": {
        "id": "IN4as7AM-B2D"
      },
      "outputs": [],
      "source": [
        "Flask==2.1.3\n",
        "numpy==1.22.3\n",
        "pandas==1.3.5\n",
        "scikit-learn==1.2.1\n"
      ]
    }
  ]
}